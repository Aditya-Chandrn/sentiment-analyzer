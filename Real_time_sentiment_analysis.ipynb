{
 "cells": [
  {
   "cell_type": "code",
   "execution_count": 2,
   "id": "d9749825",
   "metadata": {},
   "outputs": [
    {
     "name": "stdout",
     "output_type": "stream",
     "text": [
      "Collecting vadersentiment\n",
      "  Using cached vaderSentiment-3.3.2-py2.py3-none-any.whl (125 kB)\n",
      "Requirement already satisfied: requests in c:\\users\\ananya\\miniconda3\\lib\\site-packages (from vadersentiment) (2.28.1)\n",
      "Requirement already satisfied: charset-normalizer<3,>=2 in c:\\users\\ananya\\miniconda3\\lib\\site-packages (from requests->vadersentiment) (2.0.4)\n",
      "Requirement already satisfied: idna<4,>=2.5 in c:\\users\\ananya\\miniconda3\\lib\\site-packages (from requests->vadersentiment) (3.4)\n",
      "Requirement already satisfied: urllib3<1.27,>=1.21.1 in c:\\users\\ananya\\miniconda3\\lib\\site-packages (from requests->vadersentiment) (1.26.14)\n",
      "Requirement already satisfied: certifi>=2017.4.17 in c:\\users\\ananya\\miniconda3\\lib\\site-packages (from requests->vadersentiment) (2023.7.22)\n",
      "Installing collected packages: vadersentiment\n",
      "Successfully installed vadersentiment-3.3.2\n",
      "Collecting speech\n",
      "  Downloading speech-0.5.2.tar.gz (18 kB)\n",
      "  Preparing metadata (setup.py): started\n",
      "  Preparing metadata (setup.py): finished with status 'done'\n"
     ]
    },
    {
     "name": "stderr",
     "output_type": "stream",
     "text": [
      "ERROR: Could not find a version that satisfies the requirement recognition (from versions: none)\n",
      "ERROR: No matching distribution found for recognition\n"
     ]
    }
   ],
   "source": [
    "!pip install vadersentiment\n",
    "!pip install speech recognition "
   ]
  },
  {
   "cell_type": "code",
   "execution_count": 3,
   "id": "a0403352",
   "metadata": {},
   "outputs": [],
   "source": [
    "from vaderSentiment.vaderSentiment import SentimentIntensityAnalyzer\n",
    "import speech_recognition as sr "
   ]
  },
  {
   "cell_type": "code",
   "execution_count": 20,
   "id": "162fea56",
   "metadata": {},
   "outputs": [
    {
     "name": "stdout",
     "output_type": "stream",
     "text": [
      "Clearing background noise...\n",
      "Waiting for your message...\n",
      "Done recording..\n"
     ]
    }
   ],
   "source": [
    "recognizer=sr.Recognizer()\n",
    "with sr.Microphone() as source: \n",
    "\n",
    "    print('Clearing background noise...')\n",
    "    recognizer.adjust_for_ambient_noise(source,duration=1)\n",
    "    print('Waiting for your message...')\n",
    "    recordedaudio=recognizer.listen(source)\n",
    "    print('Done recording..') "
   ]
  },
  {
   "cell_type": "code",
   "execution_count": 21,
   "id": "833336ab",
   "metadata": {},
   "outputs": [
    {
     "name": "stdout",
     "output_type": "stream",
     "text": [
      "Printing the message..\n",
      "Your message:I hate you I want to kill you I don't like you\n"
     ]
    }
   ],
   "source": [
    "try:\n",
    "    print('Printing the message..')\n",
    "    text=recognizer.recognize_google(recordedaudio,language='en-US')\n",
    "    print('Your message:{}'.format(text))\n",
    "except Exception as ex:\n",
    "    print(ex)\n"
   ]
  },
  {
   "cell_type": "code",
   "execution_count": 22,
   "id": "e2d173b3",
   "metadata": {},
   "outputs": [
    {
     "name": "stdout",
     "output_type": "stream",
     "text": [
      "{'neg': 0.531, 'neu': 0.404, 'pos': 0.066, 'compound': -0.8809}\n"
     ]
    }
   ],
   "source": [
    "#Sentiment analysis\n",
    "\n",
    "Sentence=[str(text)]\n",
    "analyser=SentimentIntensityAnalyzer()\n",
    "for i in Sentence:\n",
    "    v=analyser.polarity_scores(i)\n",
    "    print(v) "
   ]
  },
  {
   "cell_type": "code",
   "execution_count": null,
   "id": "35eda7d8",
   "metadata": {},
   "outputs": [],
   "source": []
  }
 ],
 "metadata": {
  "kernelspec": {
   "display_name": "Python 3 (ipykernel)",
   "language": "python",
   "name": "python3"
  },
  "language_info": {
   "codemirror_mode": {
    "name": "ipython",
    "version": 3
   },
   "file_extension": ".py",
   "mimetype": "text/x-python",
   "name": "python",
   "nbconvert_exporter": "python",
   "pygments_lexer": "ipython3",
   "version": "3.10.9"
  }
 },
 "nbformat": 4,
 "nbformat_minor": 5
}
